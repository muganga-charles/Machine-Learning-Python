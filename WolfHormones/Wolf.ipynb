{
 "cells": [
  {
   "attachments": {},
   "cell_type": "markdown",
   "metadata": {},
   "source": [
    "Question Two"
   ]
  },
  {
   "cell_type": "code",
   "execution_count": 2,
   "metadata": {},
   "outputs": [],
   "source": [
    "import pandas as pd\n",
    "import numpy as np"
   ]
  },
  {
   "attachments": {},
   "cell_type": "markdown",
   "metadata": {},
   "source": [
    "- importing the dataset."
   ]
  },
  {
   "cell_type": "code",
   "execution_count": 15,
   "metadata": {},
   "outputs": [],
   "source": [
    "Wolf_Hormones_Dataset = pd.read_excel('Wolf_Hormones.xlsx')"
   ]
  },
  {
   "cell_type": "code",
   "execution_count": 16,
   "metadata": {},
   "outputs": [
    {
     "data": {
      "text/html": [
       "<div>\n",
       "<style scoped>\n",
       "    .dataframe tbody tr th:only-of-type {\n",
       "        vertical-align: middle;\n",
       "    }\n",
       "\n",
       "    .dataframe tbody tr th {\n",
       "        vertical-align: top;\n",
       "    }\n",
       "\n",
       "    .dataframe thead th {\n",
       "        text-align: right;\n",
       "    }\n",
       "</style>\n",
       "<table border=\"1\" class=\"dataframe\">\n",
       "  <thead>\n",
       "    <tr style=\"text-align: right;\">\n",
       "      <th></th>\n",
       "      <th>Individual</th>\n",
       "      <th>Sex</th>\n",
       "      <th>Population</th>\n",
       "      <th>Colour</th>\n",
       "      <th>Cpgmg</th>\n",
       "      <th>Tpgmg</th>\n",
       "      <th>Ppgmg</th>\n",
       "    </tr>\n",
       "  </thead>\n",
       "  <tbody>\n",
       "    <tr>\n",
       "      <th>0</th>\n",
       "      <td>1</td>\n",
       "      <td>M</td>\n",
       "      <td>2</td>\n",
       "      <td>W</td>\n",
       "      <td>15.86</td>\n",
       "      <td>5.32</td>\n",
       "      <td>NaN</td>\n",
       "    </tr>\n",
       "    <tr>\n",
       "      <th>1</th>\n",
       "      <td>2</td>\n",
       "      <td>F</td>\n",
       "      <td>1</td>\n",
       "      <td>D</td>\n",
       "      <td>20.02</td>\n",
       "      <td>3.71</td>\n",
       "      <td>14.37622</td>\n",
       "    </tr>\n",
       "    <tr>\n",
       "      <th>2</th>\n",
       "      <td>3</td>\n",
       "      <td>F</td>\n",
       "      <td>2</td>\n",
       "      <td>W</td>\n",
       "      <td>9.95</td>\n",
       "      <td>5.30</td>\n",
       "      <td>21.65902</td>\n",
       "    </tr>\n",
       "    <tr>\n",
       "      <th>3</th>\n",
       "      <td>4</td>\n",
       "      <td>F</td>\n",
       "      <td>1</td>\n",
       "      <td>D</td>\n",
       "      <td>25.22</td>\n",
       "      <td>3.71</td>\n",
       "      <td>13.42507</td>\n",
       "    </tr>\n",
       "    <tr>\n",
       "      <th>4</th>\n",
       "      <td>5</td>\n",
       "      <td>M</td>\n",
       "      <td>2</td>\n",
       "      <td>D</td>\n",
       "      <td>21.13</td>\n",
       "      <td>5.34</td>\n",
       "      <td>NaN</td>\n",
       "    </tr>\n",
       "    <tr>\n",
       "      <th>...</th>\n",
       "      <td>...</td>\n",
       "      <td>...</td>\n",
       "      <td>...</td>\n",
       "      <td>...</td>\n",
       "      <td>...</td>\n",
       "      <td>...</td>\n",
       "      <td>...</td>\n",
       "    </tr>\n",
       "    <tr>\n",
       "      <th>173</th>\n",
       "      <td>174</td>\n",
       "      <td>U</td>\n",
       "      <td>3</td>\n",
       "      <td>G</td>\n",
       "      <td>73.19</td>\n",
       "      <td>6.41</td>\n",
       "      <td>NaN</td>\n",
       "    </tr>\n",
       "    <tr>\n",
       "      <th>174</th>\n",
       "      <td>175</td>\n",
       "      <td>U</td>\n",
       "      <td>3</td>\n",
       "      <td>G</td>\n",
       "      <td>37.05</td>\n",
       "      <td>4.75</td>\n",
       "      <td>NaN</td>\n",
       "    </tr>\n",
       "    <tr>\n",
       "      <th>175</th>\n",
       "      <td>176</td>\n",
       "      <td>U</td>\n",
       "      <td>3</td>\n",
       "      <td>G</td>\n",
       "      <td>16.45</td>\n",
       "      <td>7.29</td>\n",
       "      <td>NaN</td>\n",
       "    </tr>\n",
       "    <tr>\n",
       "      <th>176</th>\n",
       "      <td>177</td>\n",
       "      <td>U</td>\n",
       "      <td>3</td>\n",
       "      <td>G</td>\n",
       "      <td>43.81</td>\n",
       "      <td>6.09</td>\n",
       "      <td>NaN</td>\n",
       "    </tr>\n",
       "    <tr>\n",
       "      <th>177</th>\n",
       "      <td>178</td>\n",
       "      <td>U</td>\n",
       "      <td>3</td>\n",
       "      <td>G</td>\n",
       "      <td>14.89</td>\n",
       "      <td>3.53</td>\n",
       "      <td>NaN</td>\n",
       "    </tr>\n",
       "  </tbody>\n",
       "</table>\n",
       "<p>178 rows × 7 columns</p>\n",
       "</div>"
      ],
      "text/plain": [
       "     Individual Sex  Population Colour  Cpgmg  Tpgmg     Ppgmg\n",
       "0             1   M           2      W  15.86   5.32       NaN\n",
       "1             2   F           1      D  20.02   3.71  14.37622\n",
       "2             3   F           2      W   9.95   5.30  21.65902\n",
       "3             4   F           1      D  25.22   3.71  13.42507\n",
       "4             5   M           2      D  21.13   5.34       NaN\n",
       "..          ...  ..         ...    ...    ...    ...       ...\n",
       "173         174   U           3      G  73.19   6.41       NaN\n",
       "174         175   U           3      G  37.05   4.75       NaN\n",
       "175         176   U           3      G  16.45   7.29       NaN\n",
       "176         177   U           3      G  43.81   6.09       NaN\n",
       "177         178   U           3      G  14.89   3.53       NaN\n",
       "\n",
       "[178 rows x 7 columns]"
      ]
     },
     "execution_count": 16,
     "metadata": {},
     "output_type": "execute_result"
    }
   ],
   "source": [
    "Wolf_Hormones_Dataset"
   ]
  },
  {
   "cell_type": "code",
   "execution_count": 17,
   "metadata": {},
   "outputs": [
    {
     "data": {
      "text/plain": [
       "Individual      int64\n",
       "Sex            object\n",
       "Population      int64\n",
       "Colour         object\n",
       "Cpgmg         float64\n",
       "Tpgmg         float64\n",
       "Ppgmg         float64\n",
       "dtype: object"
      ]
     },
     "execution_count": 17,
     "metadata": {},
     "output_type": "execute_result"
    }
   ],
   "source": [
    "Wolf_Hormones_Dataset.dtypes"
   ]
  },
  {
   "cell_type": "code",
   "execution_count": 18,
   "metadata": {},
   "outputs": [
    {
     "data": {
      "text/plain": [
       "Individual      0\n",
       "Sex             0\n",
       "Population      0\n",
       "Colour          0\n",
       "Cpgmg           0\n",
       "Tpgmg           0\n",
       "Ppgmg         109\n",
       "dtype: int64"
      ]
     },
     "execution_count": 18,
     "metadata": {},
     "output_type": "execute_result"
    }
   ],
   "source": [
    "Wolf_Hormones_Dataset.isnull().sum()"
   ]
  },
  {
   "cell_type": "code",
   "execution_count": 19,
   "metadata": {},
   "outputs": [
    {
     "data": {
      "text/plain": [
       "<AxesSubplot: >"
      ]
     },
     "execution_count": 19,
     "metadata": {},
     "output_type": "execute_result"
    },
    {
     "data": {
      "image/png": "[encoded data removed]",
      "text/plain": [
       "<Figure size 640x480 with 1 Axes>"
      ]
     },
     "metadata": {},
     "output_type": "display_data"
    }
   ],
   "source": [
    "Wolf_Hormones_Dataset['Ppgmg'].hist()"
   ]
  },
  {
   "cell_type": "code",
   "execution_count": 20,
   "metadata": {},
   "outputs": [],
   "source": [
    "# since the data is not normally distributed, we will use the median to fill the missing values\n",
    "Wolf_Hormones_Dataset['Ppgmg'].fillna(Wolf_Hormones_Dataset['Ppgmg'].median(), inplace=True)\n"
   ]
  },
  {
   "cell_type": "code",
   "execution_count": 21,
   "metadata": {},
   "outputs": [
    {
     "data": {
      "text/plain": [
       "Individual    0\n",
       "Sex           0\n",
       "Population    0\n",
       "Colour        0\n",
       "Cpgmg         0\n",
       "Tpgmg         0\n",
       "Ppgmg         0\n",
       "dtype: int64"
      ]
     },
     "execution_count": 21,
     "metadata": {},
     "output_type": "execute_result"
    }
   ],
   "source": [
    "Wolf_Hormones_Dataset.isnull().sum()"
   ]
  },
  {
   "attachments": {},
   "cell_type": "markdown",
   "metadata": {},
   "source": [
    "- changing the categorical data into numerical data.\n"
   ]
  },
  {
   "cell_type": "code",
   "execution_count": 22,
   "metadata": {},
   "outputs": [],
   "source": [
    "from sklearn.preprocessing import LabelEncoder\n",
    "le = LabelEncoder()\n",
    "Wolf_Hormones_Dataset['Sex'] = le.fit_transform(Wolf_Hormones_Dataset['Sex'])\n",
    "Wolf_Hormones_Dataset['Colour'] = le.fit_transform(Wolf_Hormones_Dataset['Colour'])"
   ]
  },
  {
   "cell_type": "code",
   "execution_count": 23,
   "metadata": {},
   "outputs": [
    {
     "data": {
      "text/html": [
       "<div>\n",
       "<style scoped>\n",
       "    .dataframe tbody tr th:only-of-type {\n",
       "        vertical-align: middle;\n",
       "    }\n",
       "\n",
       "    .dataframe tbody tr th {\n",
       "        vertical-align: top;\n",
       "    }\n",
       "\n",
       "    .dataframe thead th {\n",
       "        text-align: right;\n",
       "    }\n",
       "</style>\n",
       "<table border=\"1\" class=\"dataframe\">\n",
       "  <thead>\n",
       "    <tr style=\"text-align: right;\">\n",
       "      <th></th>\n",
       "      <th>Individual</th>\n",
       "      <th>Sex</th>\n",
       "      <th>Population</th>\n",
       "      <th>Colour</th>\n",
       "      <th>Cpgmg</th>\n",
       "      <th>Tpgmg</th>\n",
       "      <th>Ppgmg</th>\n",
       "    </tr>\n",
       "  </thead>\n",
       "  <tbody>\n",
       "    <tr>\n",
       "      <th>0</th>\n",
       "      <td>1</td>\n",
       "      <td>1</td>\n",
       "      <td>2</td>\n",
       "      <td>2</td>\n",
       "      <td>15.86</td>\n",
       "      <td>5.32</td>\n",
       "      <td>25.000370</td>\n",
       "    </tr>\n",
       "    <tr>\n",
       "      <th>1</th>\n",
       "      <td>2</td>\n",
       "      <td>0</td>\n",
       "      <td>1</td>\n",
       "      <td>0</td>\n",
       "      <td>20.02</td>\n",
       "      <td>3.71</td>\n",
       "      <td>14.376220</td>\n",
       "    </tr>\n",
       "    <tr>\n",
       "      <th>2</th>\n",
       "      <td>3</td>\n",
       "      <td>0</td>\n",
       "      <td>2</td>\n",
       "      <td>2</td>\n",
       "      <td>9.95</td>\n",
       "      <td>5.30</td>\n",
       "      <td>21.659020</td>\n",
       "    </tr>\n",
       "    <tr>\n",
       "      <th>3</th>\n",
       "      <td>4</td>\n",
       "      <td>0</td>\n",
       "      <td>1</td>\n",
       "      <td>0</td>\n",
       "      <td>25.22</td>\n",
       "      <td>3.71</td>\n",
       "      <td>13.425070</td>\n",
       "    </tr>\n",
       "    <tr>\n",
       "      <th>4</th>\n",
       "      <td>5</td>\n",
       "      <td>1</td>\n",
       "      <td>2</td>\n",
       "      <td>0</td>\n",
       "      <td>21.13</td>\n",
       "      <td>5.34</td>\n",
       "      <td>25.000370</td>\n",
       "    </tr>\n",
       "    <tr>\n",
       "      <th>5</th>\n",
       "      <td>6</td>\n",
       "      <td>1</td>\n",
       "      <td>2</td>\n",
       "      <td>2</td>\n",
       "      <td>12.48</td>\n",
       "      <td>4.60</td>\n",
       "      <td>25.000370</td>\n",
       "    </tr>\n",
       "    <tr>\n",
       "      <th>6</th>\n",
       "      <td>7</td>\n",
       "      <td>1</td>\n",
       "      <td>1</td>\n",
       "      <td>2</td>\n",
       "      <td>26.78</td>\n",
       "      <td>4.58</td>\n",
       "      <td>25.000370</td>\n",
       "    </tr>\n",
       "    <tr>\n",
       "      <th>7</th>\n",
       "      <td>8</td>\n",
       "      <td>1</td>\n",
       "      <td>1</td>\n",
       "      <td>0</td>\n",
       "      <td>15.41</td>\n",
       "      <td>9.27</td>\n",
       "      <td>25.000370</td>\n",
       "    </tr>\n",
       "    <tr>\n",
       "      <th>8</th>\n",
       "      <td>9</td>\n",
       "      <td>0</td>\n",
       "      <td>1</td>\n",
       "      <td>0</td>\n",
       "      <td>33.87</td>\n",
       "      <td>4.81</td>\n",
       "      <td>19.912695</td>\n",
       "    </tr>\n",
       "    <tr>\n",
       "      <th>9</th>\n",
       "      <td>10</td>\n",
       "      <td>0</td>\n",
       "      <td>2</td>\n",
       "      <td>2</td>\n",
       "      <td>17.29</td>\n",
       "      <td>5.07</td>\n",
       "      <td>34.598060</td>\n",
       "    </tr>\n",
       "  </tbody>\n",
       "</table>\n",
       "</div>"
      ],
      "text/plain": [
       "   Individual  Sex  Population  Colour  Cpgmg  Tpgmg      Ppgmg\n",
       "0           1    1           2       2  15.86   5.32  25.000370\n",
       "1           2    0           1       0  20.02   3.71  14.376220\n",
       "2           3    0           2       2   9.95   5.30  21.659020\n",
       "3           4    0           1       0  25.22   3.71  13.425070\n",
       "4           5    1           2       0  21.13   5.34  25.000370\n",
       "5           6    1           2       2  12.48   4.60  25.000370\n",
       "6           7    1           1       2  26.78   4.58  25.000370\n",
       "7           8    1           1       0  15.41   9.27  25.000370\n",
       "8           9    0           1       0  33.87   4.81  19.912695\n",
       "9          10    0           2       2  17.29   5.07  34.598060"
      ]
     },
     "execution_count": 23,
     "metadata": {},
     "output_type": "execute_result"
    }
   ],
   "source": [
    "Wolf_Hormones_Dataset.head(10)"
   ]
  },
  {
   "cell_type": "code",
   "execution_count": 24,
   "metadata": {},
   "outputs": [],
   "source": [
    "Wolf_Hormones_Dataset =  Wolf_Hormones_Dataset.drop( columns=['Individual'])"
   ]
  },
  {
   "attachments": {},
   "cell_type": "markdown",
   "metadata": {},
   "source": [
    "- Question 1"
   ]
  },
  {
   "cell_type": "code",
   "execution_count": 25,
   "metadata": {},
   "outputs": [
    {
     "data": {
      "text/html": [
       "<div>\n",
       "<style scoped>\n",
       "    .dataframe tbody tr th:only-of-type {\n",
       "        vertical-align: middle;\n",
       "    }\n",
       "\n",
       "    .dataframe tbody tr th {\n",
       "        vertical-align: top;\n",
       "    }\n",
       "\n",
       "    .dataframe thead th {\n",
       "        text-align: right;\n",
       "    }\n",
       "</style>\n",
       "<table border=\"1\" class=\"dataframe\">\n",
       "  <thead>\n",
       "    <tr style=\"text-align: right;\">\n",
       "      <th></th>\n",
       "      <th>Sex</th>\n",
       "      <th>Population</th>\n",
       "      <th>Colour</th>\n",
       "      <th>Cpgmg</th>\n",
       "      <th>Tpgmg</th>\n",
       "    </tr>\n",
       "  </thead>\n",
       "  <tbody>\n",
       "    <tr>\n",
       "      <th>0</th>\n",
       "      <td>1</td>\n",
       "      <td>2</td>\n",
       "      <td>2</td>\n",
       "      <td>15.86</td>\n",
       "      <td>5.32</td>\n",
       "    </tr>\n",
       "    <tr>\n",
       "      <th>1</th>\n",
       "      <td>0</td>\n",
       "      <td>1</td>\n",
       "      <td>0</td>\n",
       "      <td>20.02</td>\n",
       "      <td>3.71</td>\n",
       "    </tr>\n",
       "    <tr>\n",
       "      <th>2</th>\n",
       "      <td>0</td>\n",
       "      <td>2</td>\n",
       "      <td>2</td>\n",
       "      <td>9.95</td>\n",
       "      <td>5.30</td>\n",
       "    </tr>\n",
       "    <tr>\n",
       "      <th>3</th>\n",
       "      <td>0</td>\n",
       "      <td>1</td>\n",
       "      <td>0</td>\n",
       "      <td>25.22</td>\n",
       "      <td>3.71</td>\n",
       "    </tr>\n",
       "    <tr>\n",
       "      <th>4</th>\n",
       "      <td>1</td>\n",
       "      <td>2</td>\n",
       "      <td>0</td>\n",
       "      <td>21.13</td>\n",
       "      <td>5.34</td>\n",
       "    </tr>\n",
       "    <tr>\n",
       "      <th>5</th>\n",
       "      <td>1</td>\n",
       "      <td>2</td>\n",
       "      <td>2</td>\n",
       "      <td>12.48</td>\n",
       "      <td>4.60</td>\n",
       "    </tr>\n",
       "    <tr>\n",
       "      <th>6</th>\n",
       "      <td>1</td>\n",
       "      <td>1</td>\n",
       "      <td>2</td>\n",
       "      <td>26.78</td>\n",
       "      <td>4.58</td>\n",
       "    </tr>\n",
       "    <tr>\n",
       "      <th>7</th>\n",
       "      <td>1</td>\n",
       "      <td>1</td>\n",
       "      <td>0</td>\n",
       "      <td>15.41</td>\n",
       "      <td>9.27</td>\n",
       "    </tr>\n",
       "    <tr>\n",
       "      <th>8</th>\n",
       "      <td>0</td>\n",
       "      <td>1</td>\n",
       "      <td>0</td>\n",
       "      <td>33.87</td>\n",
       "      <td>4.81</td>\n",
       "    </tr>\n",
       "    <tr>\n",
       "      <th>9</th>\n",
       "      <td>0</td>\n",
       "      <td>2</td>\n",
       "      <td>2</td>\n",
       "      <td>17.29</td>\n",
       "      <td>5.07</td>\n",
       "    </tr>\n",
       "  </tbody>\n",
       "</table>\n",
       "</div>"
      ],
      "text/plain": [
       "   Sex  Population  Colour  Cpgmg  Tpgmg\n",
       "0    1           2       2  15.86   5.32\n",
       "1    0           1       0  20.02   3.71\n",
       "2    0           2       2   9.95   5.30\n",
       "3    0           1       0  25.22   3.71\n",
       "4    1           2       0  21.13   5.34\n",
       "5    1           2       2  12.48   4.60\n",
       "6    1           1       2  26.78   4.58\n",
       "7    1           1       0  15.41   9.27\n",
       "8    0           1       0  33.87   4.81\n",
       "9    0           2       2  17.29   5.07"
      ]
     },
     "execution_count": 25,
     "metadata": {},
     "output_type": "execute_result"
    }
   ],
   "source": [
    "Wolf_Hormones_Dataset1 = Wolf_Hormones_Dataset.drop( columns=['Ppgmg'])\n",
    "Wolf_Hormones_Dataset1.head(10)"
   ]
  },
  {
   "cell_type": "code",
   "execution_count": 26,
   "metadata": {},
   "outputs": [],
   "source": [
    "# checking for the features that are correlated with the target variable\n",
    "def FunctionAnova(Data, TargetVariable, CategoricalPredictorList):\n",
    "    from scipy.stats import f_oneway\n",
    "    SelectedPredictors=[]\n",
    "    \n",
    "    print('##### ANOVA Results ##### \\n')\n",
    "    for predictor in CategoricalPredictorList:\n",
    "        CategoryGroupLists=Data.groupby(predictor)[TargetVariable].apply(list)\n",
    "        AnovaResults = f_oneway(*CategoryGroupLists)\n",
    "        \n",
    "        # If the ANOVA P-Value is <0.05, that means we reject H0\n",
    "        if (AnovaResults[1] < 0.05):\n",
    "            print(predictor, 'is correlated with', TargetVariable, '| P-Value:', AnovaResults[1])\n",
    "            SelectedPredictors.append(predictor)\n",
    "        else:\n",
    "            print(predictor, 'is NOT correlated with', TargetVariable, '| P-Value:', AnovaResults[1])\n",
    "    \n",
    "    return(SelectedPredictors)"
   ]
  },
  {
   "cell_type": "code",
   "execution_count": 27,
   "metadata": {},
   "outputs": [
    {
     "name": "stdout",
     "output_type": "stream",
     "text": [
      "##### ANOVA Results ##### \n",
      "\n",
      "Sex is correlated with Tpgmg | P-Value: 0.003220433767573283\n",
      "Colour is correlated with Tpgmg | P-Value: 0.006950848327639451\n",
      "Population is correlated with Tpgmg | P-Value: 0.005317645496574097\n"
     ]
    },
    {
     "data": {
      "text/plain": [
       "['Sex', 'Colour', 'Population']"
      ]
     },
     "execution_count": 27,
     "metadata": {},
     "output_type": "execute_result"
    }
   ],
   "source": [
    "Predictors = ['Sex','Colour','Population']\n",
    "FunctionAnova(Wolf_Hormones_Dataset1, 'Tpgmg', Predictors)\n"
   ]
  },
  {
   "cell_type": "code",
   "execution_count": 29,
   "metadata": {},
   "outputs": [
    {
     "data": {
      "text/html": [
       "<div>\n",
       "<style scoped>\n",
       "    .dataframe tbody tr th:only-of-type {\n",
       "        vertical-align: middle;\n",
       "    }\n",
       "\n",
       "    .dataframe tbody tr th {\n",
       "        vertical-align: top;\n",
       "    }\n",
       "\n",
       "    .dataframe thead th {\n",
       "        text-align: right;\n",
       "    }\n",
       "</style>\n",
       "<table border=\"1\" class=\"dataframe\">\n",
       "  <thead>\n",
       "    <tr style=\"text-align: right;\">\n",
       "      <th></th>\n",
       "      <th>Cpgmg</th>\n",
       "      <th>Tpgmg</th>\n",
       "    </tr>\n",
       "  </thead>\n",
       "  <tbody>\n",
       "    <tr>\n",
       "      <th>Cpgmg</th>\n",
       "      <td>1.000000</td>\n",
       "      <td>0.351019</td>\n",
       "    </tr>\n",
       "    <tr>\n",
       "      <th>Tpgmg</th>\n",
       "      <td>0.351019</td>\n",
       "      <td>1.000000</td>\n",
       "    </tr>\n",
       "  </tbody>\n",
       "</table>\n",
       "</div>"
      ],
      "text/plain": [
       "          Cpgmg     Tpgmg\n",
       "Cpgmg  1.000000  0.351019\n",
       "Tpgmg  0.351019  1.000000"
      ]
     },
     "execution_count": 29,
     "metadata": {},
     "output_type": "execute_result"
    }
   ],
   "source": [
    "#Checking for correlation between the continuous variables and the target variable\n",
    "ContinuousCols2=['Cpgmg','Tpgmg']\n",
    "CorrelationData=Wolf_Hormones_Dataset1[ContinuousCols2].corr()\n",
    "CorrelationData"
   ]
  },
  {
   "attachments": {},
   "cell_type": "markdown",
   "metadata": {},
   "source": [
    "-  it is a postive correlation."
   ]
  },
  {
   "attachments": {},
   "cell_type": "markdown",
   "metadata": {},
   "source": [
    "- Using a linear regression model to make the prediction."
   ]
  },
  {
   "cell_type": "code",
   "execution_count": 30,
   "metadata": {},
   "outputs": [
    {
     "name": "stdout",
     "output_type": "stream",
     "text": [
      "(142, 4)\n",
      "(36, 4)\n",
      "(142,)\n",
      "(36,)\n"
     ]
    }
   ],
   "source": [
    "from sklearn.model_selection import train_test_split\n",
    "\n",
    "X = Wolf_Hormones_Dataset1.drop(columns=['Tpgmg'])\n",
    "y = Wolf_Hormones_Dataset1['Tpgmg']\n",
    "\n",
    "X_train, X_test, y_train, y_test = train_test_split(X, y, test_size=0.2, random_state=0)\n",
    "print(X_train.shape)\n",
    "print(X_test.shape)\n",
    "print(y_train.shape)\n",
    "print(y_test.shape)"
   ]
  },
  {
   "cell_type": "code",
   "execution_count": 31,
   "metadata": {},
   "outputs": [
    {
     "name": "stdout",
     "output_type": "stream",
     "text": [
      "R^2: 0.15370947884031305\n",
      "Adjusted R^2: 0.13414206794644745\n",
      "Mean Square Error: 7.929468750639289\n",
      "Root Mean Square Error: 2.8159312403962016\n"
     ]
    }
   ],
   "source": [
    "from sklearn.linear_model import LinearRegression\n",
    "from sklearn.metrics import mean_squared_error\n",
    "model = LinearRegression()\n",
    "model.fit(X_train, y_train)\n",
    "y_pred = model.predict(X_test)\n",
    "print('R^2:', model.score(X, y))\n",
    "print('Adjusted R^2:', 1 - (1-model.score(X, y))*(len(y)-1)/(len(y)-X.shape[1]-1))\n",
    "print('Mean Square Error:', mean_squared_error(y_test, y_pred))\n",
    "print('Root Mean Square Error:', np.sqrt(mean_squared_error(y_test, y_pred)))"
   ]
  },
  {
   "attachments": {},
   "cell_type": "markdown",
   "metadata": {},
   "source": [
    "Re trying using the KNN model."
   ]
  },
  {
   "cell_type": "code",
   "execution_count": 33,
   "metadata": {},
   "outputs": [
    {
     "name": "stdout",
     "output_type": "stream",
     "text": [
      "\n",
      "The optimal number of neighbors is 37.\n"
     ]
    },
    {
     "data": {
      "image/png": "[encoded data removed]",
      "text/plain": [
       "<Figure size 640x480 with 1 Axes>"
      ]
     },
     "metadata": {},
     "output_type": "display_data"
    }
   ],
   "source": [
    "# using the KNN algorithm to predict the target variable\n",
    "from sklearn.neighbors import KNeighborsRegressor\n",
    "from sklearn.metrics import mean_squared_error\n",
    "from sklearn.model_selection import cross_val_score\n",
    "from sklearn.model_selection import GridSearchCV\n",
    "import matplotlib.pyplot as plt\n",
    "\n",
    "# creating a list of K for KNN\n",
    "myList = list(range(0,50))\n",
    "\n",
    "# subsetting just the odd ones\n",
    "neighbors = list(filter(lambda x: x % 2 != 0, myList))\n",
    "\n",
    "# empty list that will hold cv scores\n",
    "cv_scores = []\n",
    "\n",
    "# perform 10-fold cross validation\n",
    "for k in neighbors:\n",
    "    knn = KNeighborsRegressor(n_neighbors=k)\n",
    "    scores = cross_val_score(knn, X, y, cv=10, scoring='neg_mean_squared_error')\n",
    "    cv_scores.append(scores.mean())\n",
    "\n",
    "# changing to misclassification error\n",
    "MSE = [1 - x for x in cv_scores]\n",
    "\n",
    "# determining best k\n",
    "optimal_k = neighbors[MSE.index(min(MSE))]\n",
    "print('\\nThe optimal number of neighbors is %d.' % optimal_k)\n",
    "\n",
    "# plot misclassification error vs k\n",
    "plt.plot(neighbors, MSE)\n",
    "\n",
    "for xy in zip(neighbors, np.round(MSE,3)):\n",
    "    plt.annotate('(%s, %s)' % xy, xy=xy, textcoords='data')\n",
    "\n",
    "plt.xlabel('Number of Neighbors K')\n",
    "plt.ylabel('Misclassification Error')\n",
    "plt.show()\n"
   ]
  },
  {
   "cell_type": "code",
   "execution_count": 34,
   "metadata": {},
   "outputs": [
    {
     "name": "stdout",
     "output_type": "stream",
     "text": [
      "R^2: 0.05987617714553739\n",
      "Adjusted R^2: 0.03813921014312205\n",
      "Mean Square Error: 8.17955856870384\n",
      "Root Mean Square Error: 2.8599927567572334\n"
     ]
    }
   ],
   "source": [
    "# making the model with the optimal k\n",
    "knn_optimal = KNeighborsRegressor(n_neighbors=optimal_k)\n",
    "\n",
    "# fitting the model\n",
    "knn_optimal.fit(X_train, y_train)\n",
    "\n",
    "# predict the response\n",
    "pred = knn_optimal.predict(X_test)\n",
    "\n",
    "# evaluate accuracy\n",
    "print('R^2:', knn_optimal.score(X, y))\n",
    "print('Adjusted R^2:', 1 - (1-knn_optimal.score(X, y))*(len(y)-1)/(len(y)-X.shape[1]-1))\n",
    "print('Mean Square Error:', mean_squared_error(y_test, pred))\n",
    "print('Root Mean Square Error:', np.sqrt(mean_squared_error(y_test, pred)))\n"
   ]
  },
  {
   "attachments": {},
   "cell_type": "markdown",
   "metadata": {},
   "source": [
    "Since the K Nearest Neighbors model is giving a low R^2 value, I am using the linear regression model to make the prediction."
   ]
  },
  {
   "cell_type": "code",
   "execution_count": 38,
   "metadata": {},
   "outputs": [
    {
     "name": "stdout",
     "output_type": "stream",
     "text": [
      "pickle file of Predictive Model is saved at Location: c:\\Users\\hp\\Desktop\\Allan\\Repeat Assignment 3\\Repeat Assignment 3\\Question2\n"
     ]
    }
   ],
   "source": [
    "# Saving the model\n",
    "import pickle\n",
    "import os\n",
    "with open('C:/Users/hp/Desktop/Allan/Repeat Assignment 3/Repeat Assignment 3/Question2/Model.pkl', 'wb') as file:\n",
    "    pickle.dump(model, file)\n",
    "    file.close()\n",
    "print('pickle file of Predictive Model is saved at Location:',os.getcwd())"
   ]
  },
  {
   "cell_type": "code",
   "execution_count": 40,
   "metadata": {},
   "outputs": [],
   "source": [
    "# loading the model\n",
    "def load_model():\n",
    "    with open('C:/Users/hp/Desktop/Allan/Repeat Assignment 3/Repeat Assignment 3/Question2/Model.pkl', 'rb') as file:\n",
    "        model = pickle.load(file)\n",
    "        file.close()\n",
    "    return model"
   ]
  },
  {
   "cell_type": "code",
   "execution_count": 45,
   "metadata": {},
   "outputs": [
    {
     "data": {
      "text/html": [
       "<div>\n",
       "<style scoped>\n",
       "    .dataframe tbody tr th:only-of-type {\n",
       "        vertical-align: middle;\n",
       "    }\n",
       "\n",
       "    .dataframe tbody tr th {\n",
       "        vertical-align: top;\n",
       "    }\n",
       "\n",
       "    .dataframe thead th {\n",
       "        text-align: right;\n",
       "    }\n",
       "</style>\n",
       "<table border=\"1\" class=\"dataframe\">\n",
       "  <thead>\n",
       "    <tr style=\"text-align: right;\">\n",
       "      <th></th>\n",
       "      <th>Individual</th>\n",
       "      <th>Sex</th>\n",
       "      <th>Population</th>\n",
       "      <th>Colour</th>\n",
       "      <th>Cpgmg</th>\n",
       "      <th>Tpgmg</th>\n",
       "    </tr>\n",
       "  </thead>\n",
       "  <tbody>\n",
       "    <tr>\n",
       "      <th>0</th>\n",
       "      <td>179</td>\n",
       "      <td>M</td>\n",
       "      <td>2</td>\n",
       "      <td>W</td>\n",
       "      <td>15.86</td>\n",
       "      <td>NaN</td>\n",
       "    </tr>\n",
       "    <tr>\n",
       "      <th>1</th>\n",
       "      <td>180</td>\n",
       "      <td>F</td>\n",
       "      <td>1</td>\n",
       "      <td>D</td>\n",
       "      <td>20.02</td>\n",
       "      <td>NaN</td>\n",
       "    </tr>\n",
       "    <tr>\n",
       "      <th>2</th>\n",
       "      <td>181</td>\n",
       "      <td>F</td>\n",
       "      <td>2</td>\n",
       "      <td>W</td>\n",
       "      <td>9.95</td>\n",
       "      <td>NaN</td>\n",
       "    </tr>\n",
       "    <tr>\n",
       "      <th>3</th>\n",
       "      <td>182</td>\n",
       "      <td>F</td>\n",
       "      <td>1</td>\n",
       "      <td>D</td>\n",
       "      <td>25.22</td>\n",
       "      <td>NaN</td>\n",
       "    </tr>\n",
       "    <tr>\n",
       "      <th>4</th>\n",
       "      <td>183</td>\n",
       "      <td>M</td>\n",
       "      <td>2</td>\n",
       "      <td>D</td>\n",
       "      <td>21.13</td>\n",
       "      <td>NaN</td>\n",
       "    </tr>\n",
       "    <tr>\n",
       "      <th>5</th>\n",
       "      <td>184</td>\n",
       "      <td>M</td>\n",
       "      <td>2</td>\n",
       "      <td>W</td>\n",
       "      <td>12.48</td>\n",
       "      <td>NaN</td>\n",
       "    </tr>\n",
       "    <tr>\n",
       "      <th>6</th>\n",
       "      <td>185</td>\n",
       "      <td>U</td>\n",
       "      <td>3</td>\n",
       "      <td>G</td>\n",
       "      <td>14.17</td>\n",
       "      <td>NaN</td>\n",
       "    </tr>\n",
       "    <tr>\n",
       "      <th>7</th>\n",
       "      <td>186</td>\n",
       "      <td>U</td>\n",
       "      <td>3</td>\n",
       "      <td>G</td>\n",
       "      <td>12.09</td>\n",
       "      <td>NaN</td>\n",
       "    </tr>\n",
       "    <tr>\n",
       "      <th>8</th>\n",
       "      <td>187</td>\n",
       "      <td>U</td>\n",
       "      <td>3</td>\n",
       "      <td>G</td>\n",
       "      <td>54.47</td>\n",
       "      <td>NaN</td>\n",
       "    </tr>\n",
       "    <tr>\n",
       "      <th>9</th>\n",
       "      <td>188</td>\n",
       "      <td>U</td>\n",
       "      <td>3</td>\n",
       "      <td>G</td>\n",
       "      <td>10.40</td>\n",
       "      <td>NaN</td>\n",
       "    </tr>\n",
       "  </tbody>\n",
       "</table>\n",
       "</div>"
      ],
      "text/plain": [
       "   Individual Sex  Population Colour  Cpgmg  Tpgmg\n",
       "0         179   M           2      W  15.86    NaN\n",
       "1         180   F           1      D  20.02    NaN\n",
       "2         181   F           2      W   9.95    NaN\n",
       "3         182   F           1      D  25.22    NaN\n",
       "4         183   M           2      D  21.13    NaN\n",
       "5         184   M           2      W  12.48    NaN\n",
       "6         185   U           3      G  14.17    NaN\n",
       "7         186   U           3      G  12.09    NaN\n",
       "8         187   U           3      G  54.47    NaN\n",
       "9         188   U           3      G  10.40    NaN"
      ]
     },
     "execution_count": 45,
     "metadata": {},
     "output_type": "execute_result"
    }
   ],
   "source": [
    "# load the test dataset\n",
    "test_data = pd.read_excel('Test_Data1.xlsx')\n",
    "test_data.head(10)"
   ]
  },
  {
   "cell_type": "code",
   "execution_count": 46,
   "metadata": {},
   "outputs": [],
   "source": [
    "test_data = test_data.drop( columns=['Individual','Tpgmg'])"
   ]
  },
  {
   "cell_type": "code",
   "execution_count": 47,
   "metadata": {},
   "outputs": [
    {
     "data": {
      "text/plain": [
       "Sex           0\n",
       "Population    0\n",
       "Colour        0\n",
       "Cpgmg         0\n",
       "dtype: int64"
      ]
     },
     "execution_count": 47,
     "metadata": {},
     "output_type": "execute_result"
    }
   ],
   "source": [
    "test_data.isnull().sum()"
   ]
  },
  {
   "cell_type": "code",
   "execution_count": 50,
   "metadata": {},
   "outputs": [],
   "source": [
    "test_data['Sex'] = le.fit_transform(test_data['Sex'])\n",
    "test_data['Colour'] = le.fit_transform(test_data['Colour'])"
   ]
  },
  {
   "cell_type": "code",
   "execution_count": 48,
   "metadata": {},
   "outputs": [],
   "source": [
    "def FunctionPredict(InputData):\n",
    "    new_model = load_model()\n",
    "    prediction = new_model.predict(InputData)\n",
    "    return(prediction)"
   ]
  },
  {
   "cell_type": "code",
   "execution_count": 52,
   "metadata": {},
   "outputs": [
    {
     "name": "stdout",
     "output_type": "stream",
     "text": [
      "The Predicted Tpgmg is:\n",
      " [ 5.76416315  5.62012134  3.88514584  6.46805374  7.48826358  5.21300709\n",
      "  7.60810318  7.26893021 14.17957933  6.99335218 13.50123341 10.79926418\n",
      "  7.70431089  4.35638209  5.68749845  3.84384046  5.54674257  3.53728028]\n"
     ]
    }
   ],
   "source": [
    "print('The Predicted Tpgmg is:\\n', FunctionPredict(test_data))"
   ]
  },
  {
   "attachments": {},
   "cell_type": "markdown",
   "metadata": {},
   "source": [
    "- Question 2    \n"
   ]
  },
  {
   "cell_type": "code",
   "execution_count": 53,
   "metadata": {},
   "outputs": [
    {
     "name": "stdout",
     "output_type": "stream",
     "text": [
      "##### ANOVA Results ##### \n",
      "\n",
      "Sex is correlated with Tpgmg | P-Value: 0.003220433767573283\n",
      "Colour is correlated with Tpgmg | P-Value: 0.006950848327639451\n",
      "Population is correlated with Tpgmg | P-Value: 0.005317645496574097\n"
     ]
    },
    {
     "data": {
      "text/plain": [
       "['Sex', 'Colour', 'Population']"
      ]
     },
     "execution_count": 53,
     "metadata": {},
     "output_type": "execute_result"
    }
   ],
   "source": [
    "# checking for correlation between the categorical variables and the target variable\n",
    "FunctionAnova(Wolf_Hormones_Dataset, 'Tpgmg', Predictors)"
   ]
  },
  {
   "cell_type": "code",
   "execution_count": 54,
   "metadata": {},
   "outputs": [
    {
     "data": {
      "text/html": [
       "<div>\n",
       "<style scoped>\n",
       "    .dataframe tbody tr th:only-of-type {\n",
       "        vertical-align: middle;\n",
       "    }\n",
       "\n",
       "    .dataframe tbody tr th {\n",
       "        vertical-align: top;\n",
       "    }\n",
       "\n",
       "    .dataframe thead th {\n",
       "        text-align: right;\n",
       "    }\n",
       "</style>\n",
       "<table border=\"1\" class=\"dataframe\">\n",
       "  <thead>\n",
       "    <tr style=\"text-align: right;\">\n",
       "      <th></th>\n",
       "      <th>Cpgmg</th>\n",
       "      <th>Tpgmg</th>\n",
       "      <th>Ppgmg</th>\n",
       "    </tr>\n",
       "  </thead>\n",
       "  <tbody>\n",
       "    <tr>\n",
       "      <th>Cpgmg</th>\n",
       "      <td>1.000000</td>\n",
       "      <td>0.351019</td>\n",
       "      <td>0.159843</td>\n",
       "    </tr>\n",
       "    <tr>\n",
       "      <th>Tpgmg</th>\n",
       "      <td>0.351019</td>\n",
       "      <td>1.000000</td>\n",
       "      <td>0.057477</td>\n",
       "    </tr>\n",
       "    <tr>\n",
       "      <th>Ppgmg</th>\n",
       "      <td>0.159843</td>\n",
       "      <td>0.057477</td>\n",
       "      <td>1.000000</td>\n",
       "    </tr>\n",
       "  </tbody>\n",
       "</table>\n",
       "</div>"
      ],
      "text/plain": [
       "          Cpgmg     Tpgmg     Ppgmg\n",
       "Cpgmg  1.000000  0.351019  0.159843\n",
       "Tpgmg  0.351019  1.000000  0.057477\n",
       "Ppgmg  0.159843  0.057477  1.000000"
      ]
     },
     "execution_count": 54,
     "metadata": {},
     "output_type": "execute_result"
    }
   ],
   "source": [
    "# checking for the correlation between the continuous variables and the target variable\n",
    "ContinuousCols=['Cpgmg','Tpgmg','Ppgmg']\n",
    "CorrelationData=Wolf_Hormones_Dataset[ContinuousCols].corr()\n",
    "CorrelationData"
   ]
  },
  {
   "cell_type": "code",
   "execution_count": 55,
   "metadata": {},
   "outputs": [
    {
     "name": "stdout",
     "output_type": "stream",
     "text": [
      "(142, 5)\n",
      "(36, 5)\n",
      "(142,)\n",
      "(36,)\n"
     ]
    }
   ],
   "source": [
    "X1 = Wolf_Hormones_Dataset.drop(columns=['Ppgmg'])\n",
    "y1 = Wolf_Hormones_Dataset['Ppgmg']\n",
    "\n",
    "X_train1, X_test1, y_train1, y_test1 = train_test_split(X1, y1, test_size=0.2, random_state=0)\n",
    "print(X_train1.shape)\n",
    "print(X_test1.shape)\n",
    "print(y_train1.shape)\n",
    "print(y_test1.shape)"
   ]
  },
  {
   "cell_type": "code",
   "execution_count": 56,
   "metadata": {},
   "outputs": [
    {
     "name": "stdout",
     "output_type": "stream",
     "text": [
      "R^2: 0.08069570504590429\n",
      "Adjusted R^2: 0.05397174298328522\n",
      "Mean Square Error: 25.682926386978963\n",
      "Root Mean Square Error: 5.067832513706325\n"
     ]
    }
   ],
   "source": [
    "# Bulding a LinearRegression model\n",
    "model1 = LinearRegression()\n",
    "model1.fit(X_train1, y_train1)\n",
    "y_pred1 = model1.predict(X_test1)\n",
    "print('R^2:', model1.score(X1, y1))\n",
    "print('Adjusted R^2:', 1 - (1-model1.score(X1, y1))*(len(y1)-1)/(len(y1)-X1.shape[1]-1))\n",
    "print('Mean Square Error:', mean_squared_error(y_test1, y_pred1))\n",
    "print('Root Mean Square Error:', np.sqrt(mean_squared_error(y_test1, y_pred1)))\n"
   ]
  },
  {
   "cell_type": "code",
   "execution_count": 58,
   "metadata": {},
   "outputs": [
    {
     "name": "stdout",
     "output_type": "stream",
     "text": [
      "\n",
      "The optimal number of neighbors is 47.\n"
     ]
    },
    {
     "data": {
      "image/png": "[encoded data removed]",
      "text/plain": [
       "<Figure size 640x480 with 1 Axes>"
      ]
     },
     "metadata": {},
     "output_type": "display_data"
    }
   ],
   "source": [
    "\n",
    "# creating a list of K for KNN\n",
    "myList = list(range(0,50))\n",
    "\n",
    "# subsetting just the odd ones\n",
    "neighbors = list(filter(lambda x: x % 2 != 0, myList))\n",
    "\n",
    "# empty list that will hold cv scores\n",
    "cv_scores = []\n",
    "for k in neighbors:\n",
    "    knn = KNeighborsRegressor(n_neighbors=k)\n",
    "    scores = cross_val_score(knn, X1, y1, cv=10, scoring='neg_mean_squared_error')\n",
    "    cv_scores.append(scores.mean())\n",
    "\n",
    "# changing to misclassification error\n",
    "MSE = [1 - x for x in cv_scores]\n",
    "\n",
    "# determining best k\n",
    "optimal_k = neighbors[MSE.index(min(MSE))]\n",
    "print('\\nThe optimal number of neighbors is %d.' % optimal_k)\n",
    "\n",
    "# plot misclassification error vs k\n",
    "plt.plot(neighbors, MSE)\n",
    "\n",
    "for xy in zip(neighbors, np.round(MSE,3)):\n",
    "    plt.annotate('(%s, %s)' % xy, xy=xy, textcoords='data')\n",
    "\n",
    "plt.xlabel('Number of Neighbors K')\n",
    "plt.ylabel('Misclassification Error')\n",
    "plt.show()"
   ]
  },
  {
   "cell_type": "code",
   "execution_count": 62,
   "metadata": {},
   "outputs": [
    {
     "name": "stdout",
     "output_type": "stream",
     "text": [
      "R^2: 0.06847251000726362\n",
      "Adjusted R^2: 0.04139322250747479\n",
      "Mean Square Error: 24.39164380088001\n",
      "Root Mean Square Error: 4.938789710129397\n"
     ]
    }
   ],
   "source": [
    "# making the model with the optimal k\n",
    "knn_optimal = KNeighborsRegressor(n_neighbors=optimal_k)\n",
    "\n",
    "# fitting the model\n",
    "knn_optimal.fit(X_train1, y_train1)\n",
    "\n",
    "# predict the response\n",
    "pred1 = knn_optimal.predict(X_test1)\n",
    "\n",
    "# evaluate accuracy\n",
    "print('R^2:', knn_optimal.score(X1, y1))\n",
    "print('Adjusted R^2:', 1 - (1-knn_optimal.score(X1, y1))*(len(y1)-1)/(len(y1)-X1.shape[1]-1))\n",
    "print('Mean Square Error:', mean_squared_error(y_test1, pred1))\n",
    "print('Root Mean Square Error:', np.sqrt(mean_squared_error(y_test1, pred1)))\n"
   ]
  },
  {
   "attachments": {},
   "cell_type": "markdown",
   "metadata": {},
   "source": [
    "The same issues arises here as well. The KNN model is giving a low R^2 value. So I am using the linear regression model to make the prediction."
   ]
  },
  {
   "cell_type": "code",
   "execution_count": 63,
   "metadata": {},
   "outputs": [
    {
     "name": "stdout",
     "output_type": "stream",
     "text": [
      "pickle file of Predictive Model is saved at Location: c:\\Users\\hp\\Desktop\\Allan\\Repeat Assignment 3\\Repeat Assignment 3\\Question2\n"
     ]
    }
   ],
   "source": [
    "# saving the model\n",
    "import pickle\n",
    "import os\n",
    "with open('C:/Users/hp/Desktop/Allan/Repeat Assignment 3/Repeat Assignment 3/Question2/Model1.pkl', 'wb') as file:\n",
    "    pickle.dump(model1, file)\n",
    "    file.close()\n",
    "print('pickle file of Predictive Model is saved at Location:',os.getcwd())\n"
   ]
  },
  {
   "cell_type": "code",
   "execution_count": 64,
   "metadata": {},
   "outputs": [],
   "source": [
    "# Loading the model\n",
    "def load_model1():\n",
    "    with open('C:/Users/hp/Desktop/Allan/Repeat Assignment 3/Repeat Assignment 3/Question2/Model1.pkl', 'rb') as file:\n",
    "        model1 = pickle.load(file)\n",
    "        file.close()\n",
    "    return model1"
   ]
  },
  {
   "cell_type": "code",
   "execution_count": 73,
   "metadata": {},
   "outputs": [],
   "source": [
    "def FunctionPredict1(InputData):\n",
    "    new_model1 = load_model1()\n",
    "    prediction = new_model1.predict(InputData)\n",
    "    return(prediction)"
   ]
  },
  {
   "cell_type": "code",
   "execution_count": 69,
   "metadata": {},
   "outputs": [
    {
     "data": {
      "text/html": [
       "<div>\n",
       "<style scoped>\n",
       "    .dataframe tbody tr th:only-of-type {\n",
       "        vertical-align: middle;\n",
       "    }\n",
       "\n",
       "    .dataframe tbody tr th {\n",
       "        vertical-align: top;\n",
       "    }\n",
       "\n",
       "    .dataframe thead th {\n",
       "        text-align: right;\n",
       "    }\n",
       "</style>\n",
       "<table border=\"1\" class=\"dataframe\">\n",
       "  <thead>\n",
       "    <tr style=\"text-align: right;\">\n",
       "      <th></th>\n",
       "      <th>Individual</th>\n",
       "      <th>Sex</th>\n",
       "      <th>Population</th>\n",
       "      <th>Colour</th>\n",
       "      <th>Cpgmg</th>\n",
       "      <th>Tpgmg</th>\n",
       "      <th>Ppgmg</th>\n",
       "    </tr>\n",
       "  </thead>\n",
       "  <tbody>\n",
       "    <tr>\n",
       "      <th>0</th>\n",
       "      <td>197</td>\n",
       "      <td>F</td>\n",
       "      <td>1</td>\n",
       "      <td>D</td>\n",
       "      <td>22.87</td>\n",
       "      <td>3.81</td>\n",
       "      <td>NaN</td>\n",
       "    </tr>\n",
       "    <tr>\n",
       "      <th>1</th>\n",
       "      <td>198</td>\n",
       "      <td>F</td>\n",
       "      <td>2</td>\n",
       "      <td>W</td>\n",
       "      <td>17.29</td>\n",
       "      <td>5.07</td>\n",
       "      <td>NaN</td>\n",
       "    </tr>\n",
       "    <tr>\n",
       "      <th>2</th>\n",
       "      <td>199</td>\n",
       "      <td>F</td>\n",
       "      <td>1</td>\n",
       "      <td>W</td>\n",
       "      <td>9.43</td>\n",
       "      <td>4.47</td>\n",
       "      <td>NaN</td>\n",
       "    </tr>\n",
       "    <tr>\n",
       "      <th>3</th>\n",
       "      <td>200</td>\n",
       "      <td>F</td>\n",
       "      <td>1</td>\n",
       "      <td>W</td>\n",
       "      <td>8.84</td>\n",
       "      <td>3.75</td>\n",
       "      <td>NaN</td>\n",
       "    </tr>\n",
       "    <tr>\n",
       "      <th>4</th>\n",
       "      <td>201</td>\n",
       "      <td>F</td>\n",
       "      <td>1</td>\n",
       "      <td>D</td>\n",
       "      <td>32.00</td>\n",
       "      <td>4.56</td>\n",
       "      <td>NaN</td>\n",
       "    </tr>\n",
       "    <tr>\n",
       "      <th>5</th>\n",
       "      <td>202</td>\n",
       "      <td>F</td>\n",
       "      <td>1</td>\n",
       "      <td>D</td>\n",
       "      <td>14.30</td>\n",
       "      <td>6.06</td>\n",
       "      <td>NaN</td>\n",
       "    </tr>\n",
       "    <tr>\n",
       "      <th>6</th>\n",
       "      <td>203</td>\n",
       "      <td>F</td>\n",
       "      <td>2</td>\n",
       "      <td>W</td>\n",
       "      <td>10.16</td>\n",
       "      <td>2.34</td>\n",
       "      <td>NaN</td>\n",
       "    </tr>\n",
       "    <tr>\n",
       "      <th>7</th>\n",
       "      <td>204</td>\n",
       "      <td>F</td>\n",
       "      <td>2</td>\n",
       "      <td>W</td>\n",
       "      <td>17.05</td>\n",
       "      <td>4.34</td>\n",
       "      <td>NaN</td>\n",
       "    </tr>\n",
       "    <tr>\n",
       "      <th>8</th>\n",
       "      <td>205</td>\n",
       "      <td>F</td>\n",
       "      <td>2</td>\n",
       "      <td>D</td>\n",
       "      <td>13.91</td>\n",
       "      <td>4.72</td>\n",
       "      <td>NaN</td>\n",
       "    </tr>\n",
       "    <tr>\n",
       "      <th>9</th>\n",
       "      <td>206</td>\n",
       "      <td>F</td>\n",
       "      <td>2</td>\n",
       "      <td>D</td>\n",
       "      <td>17.16</td>\n",
       "      <td>9.25</td>\n",
       "      <td>NaN</td>\n",
       "    </tr>\n",
       "  </tbody>\n",
       "</table>\n",
       "</div>"
      ],
      "text/plain": [
       "   Individual Sex  Population Colour  Cpgmg  Tpgmg  Ppgmg\n",
       "0         197   F           1      D  22.87   3.81    NaN\n",
       "1         198   F           2      W  17.29   5.07    NaN\n",
       "2         199   F           1      W   9.43   4.47    NaN\n",
       "3         200   F           1      W   8.84   3.75    NaN\n",
       "4         201   F           1      D  32.00   4.56    NaN\n",
       "5         202   F           1      D  14.30   6.06    NaN\n",
       "6         203   F           2      W  10.16   2.34    NaN\n",
       "7         204   F           2      W  17.05   4.34    NaN\n",
       "8         205   F           2      D  13.91   4.72    NaN\n",
       "9         206   F           2      D  17.16   9.25    NaN"
      ]
     },
     "execution_count": 69,
     "metadata": {},
     "output_type": "execute_result"
    }
   ],
   "source": [
    "# load the test dataset\n",
    "test_data2 = pd.read_excel('Test_Data2.xlsx')\n",
    "test_data2.head(10)"
   ]
  },
  {
   "cell_type": "code",
   "execution_count": 68,
   "metadata": {},
   "outputs": [
    {
     "data": {
      "text/plain": [
       "Individual     0\n",
       "Sex            0\n",
       "Population     0\n",
       "Colour         0\n",
       "Cpgmg          0\n",
       "Tpgmg          0\n",
       "Ppgmg         12\n",
       "dtype: int64"
      ]
     },
     "execution_count": 68,
     "metadata": {},
     "output_type": "execute_result"
    }
   ],
   "source": [
    "test_data2.isnull().sum()"
   ]
  },
  {
   "cell_type": "code",
   "execution_count": 70,
   "metadata": {},
   "outputs": [],
   "source": [
    "test_data2['Sex'] = le.fit_transform(test_data2['Sex'])\n",
    "test_data2['Colour'] = le.fit_transform(test_data2['Colour'])"
   ]
  },
  {
   "cell_type": "code",
   "execution_count": 71,
   "metadata": {},
   "outputs": [],
   "source": [
    "test_data2.drop(columns=['Individual','Ppgmg'], inplace=True)"
   ]
  },
  {
   "cell_type": "code",
   "execution_count": 76,
   "metadata": {},
   "outputs": [
    {
     "name": "stdout",
     "output_type": "stream",
     "text": [
      "The values of Ppgmg are :\n",
      " [24.27400801 26.74005429 24.17311455 24.11829859 24.91899071 23.72636902\n",
      " 26.19441591 26.70920584 25.68580155 25.99878422 24.17128427 27.23774547]\n"
     ]
    }
   ],
   "source": [
    "print('The values of Ppgmg are :\\n',FunctionPredict1(test_data2))"
   ]
  }
 ],
 "metadata": {
  "kernelspec": {
   "display_name": "Python 3",
   "language": "python",
   "name": "python3"
  },
  "language_info": {
   "codemirror_mode": {
    "name": "ipython",
    "version": 3
   },
   "file_extension": ".py",
   "mimetype": "text/x-python",
   "name": "python",
   "nbconvert_exporter": "python",
   "pygments_lexer": "ipython3",
   "version": "3.11.0"
  },
  "orig_nbformat": 4
 },
 "nbformat": 4,
 "nbformat_minor": 2
}
